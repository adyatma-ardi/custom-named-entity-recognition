{
 "cells": [
  {
   "cell_type": "markdown",
   "id": "32c27d2f-91d6-4f59-9202-6f2a945effd5",
   "metadata": {
    "tags": []
   },
   "source": [
    "<div align=\"center\" style=\"font-family:times new roman\":times new roman>\n",
    "<h3>Machine Learning Engineer Assessment</h3></div>\n",
    "<hr>\n",
    "<div align=\"justify\" style=\"font-family:times new roman\":times new roman>\n",
    "    <h4>Full Name : Achmad Adyatma Ardi<br>\n",
    "        CODE      &nbsp;&nbsp;&nbsp;&nbsp;&nbsp;&nbsp;: K1/SDTECH/HR/IV/2021<br>\n",
    "    </h4>\n",
    "    <h5> Test Case 1 :<br>\n",
    "    1. saya mau beli tiket pesawat ke surabaya untuk 2 orang.<br>\n",
    "    2. beliin tiket pesawat untuk 2 orang ya, tujuannya surabaya.<br>\n",
    "    3. pesankan penerbangan 2 tiket ke surabaya<br>\n",
    "    <br>\n",
    "    Output :<br>\n",
    "    intent: beli_tiket_pesawat<br>\n",
    "    destination: surabaya (place)<br>\n",
    "    quantity: 2 (amount)<br>\n",
    "    <br>    \n",
    "    Test Case 2 :<br>\n",
    "    1. beliin pulsa 10rb ke 081192327632<br>\n",
    "    2. isi pulsa 10000 ke 081192327632<br>\n",
    "    <br>\n",
    "    Output :<br>\n",
    "    intent: beli_pulsa<br>\n",
    "    denom: 10000 (amount)<br>\n",
    "    phone_number: 081192327632 (phone)<br>\n",
    "    </h5>\n",
    "</div>"
   ]
  },
  {
   "cell_type": "markdown",
   "id": "65bb0ca4-0419-4cd8-b834-7f5671062de7",
   "metadata": {},
   "source": [
    "<div align=\"center\" style=\"font-family:times new roman\"><b>1. Preparation</b>\n",
    "</div>\n",
    "<hr>"
   ]
  },
  {
   "cell_type": "code",
   "execution_count": 49,
   "id": "5b8eabba-1278-47fd-bb1f-cd79f97158c1",
   "metadata": {
    "tags": []
   },
   "outputs": [],
   "source": [
    "# Install spaCy\n",
    "!pip install spacy -q"
   ]
  },
  {
   "cell_type": "code",
   "execution_count": 46,
   "id": "6cd9c0ad-8d83-48c5-8e45-36281543e874",
   "metadata": {
    "tags": []
   },
   "outputs": [],
   "source": [
    "# Check the installed spaCy library\n",
    "!pip show spacy -q"
   ]
  },
  {
   "cell_type": "code",
   "execution_count": 47,
   "id": "d116bbdb-ac74-4668-96cc-1fa7fe903b52",
   "metadata": {
    "tags": []
   },
   "outputs": [],
   "source": [
    "# Install pickle\n",
    "!pip install pickle5 -q"
   ]
  },
  {
   "cell_type": "code",
   "execution_count": 48,
   "id": "3a670608-7997-4a98-9604-e3bdfc9fc4bb",
   "metadata": {
    "tags": []
   },
   "outputs": [],
   "source": [
    "# Check the installed pickle library\n",
    "!pip show pickle5 -q"
   ]
  },
  {
   "cell_type": "code",
   "execution_count": 2,
   "id": "7f1ab18e-35f4-4563-9b5f-234dcc0ddab0",
   "metadata": {
    "tags": []
   },
   "outputs": [],
   "source": [
    "# Import library\n",
    "import os\n",
    "import spacy\n",
    "from spacy import load, displacy\n",
    "from spacy.tokens import DocBin\n",
    "import pickle\n",
    "import random\n",
    "from tqdm import tqdm"
   ]
  },
  {
   "cell_type": "markdown",
   "id": "9824e710-6f6e-424d-802e-b6b3f85bb43a",
   "metadata": {},
   "source": [
    "<div align=\"center\" style=\"font-family:times new roman\"><b>2. Data train</b>\n",
    "</div>\n",
    "<hr>"
   ]
  },
  {
   "cell_type": "code",
   "execution_count": null,
   "id": "cc9fba1f-4d2b-46c6-b81e-b008f6fe9c90",
   "metadata": {
    "tags": []
   },
   "outputs": [],
   "source": [
    "# Create annotations with the help of an external tool (open - source)\n",
    "\n",
    "# https://tecoholic.github.io/ner-annotator/"
   ]
  },
  {
   "cell_type": "code",
   "execution_count": 3,
   "id": "ae5d131a-c42e-4a27-97f7-7c486d83f6d1",
   "metadata": {},
   "outputs": [],
   "source": [
    "# import json file\n",
    "import json\n",
    "\n",
    "os.getcwd()\n",
    "f = open('annotations.json')\n",
    "TRAIN_DATA = json.load(f)"
   ]
  },
  {
   "cell_type": "code",
   "execution_count": 4,
   "id": "e07745bb-4e8b-48da-bc06-038611ff71d1",
   "metadata": {
    "tags": []
   },
   "outputs": [
    {
     "data": {
      "text/plain": [
       "{'classes': ['PLACE', 'AMOUNT', 'PHONE'],\n",
       " 'annotations': [['ibu sedang berada di Surabaya sekarang',\n",
       "   {'entities': [[21, 29, 'PLACE']]}],\n",
       "  ['Surabaya merupakan kota terbesar kedua setelah Jakarta',\n",
       "   {'entities': [[0, 8, 'PLACE'], [47, 54, 'PLACE']]}],\n",
       "  ['Surabaya adalah kota yang indah', {'entities': [[0, 8, 'PLACE']]}],\n",
       "  ['Surabaya dikenal sebagai kota pahlawan', {'entities': [[0, 8, 'PLACE']]}],\n",
       "  ['populasi penduduk Surabaya sekitar 3 juta orang',\n",
       "   {'entities': [[18, 26, 'PLACE'], [35, 36, 'AMOUNT']]}],\n",
       "  ['Terdapat 5 orang yang memiliki saham diperusahaan tersebut',\n",
       "   {'entities': [[9, 10, 'AMOUNT']]}],\n",
       "  ['Budi memiliki 5 buah apel', {'entities': [[14, 15, 'AMOUNT']]}],\n",
       "  ['Indonesia memiliki 34 provinsi',\n",
       "   {'entities': [[0, 9, 'PLACE'], [19, 21, 'AMOUNT']]}],\n",
       "  ['hubungi bu Sri di nomor 081194221632', {'entities': [[24, 36, 'PHONE']]}],\n",
       "  ['hubungi bu Dian di nomor 081121221639', {'entities': [[25, 37, 'PHONE']]}],\n",
       "  ['hubungi pak Tobu di nomor 081421221629',\n",
       "   {'entities': [[26, 38, 'PHONE']]}],\n",
       "  ['081121221621 adalah nomor telepon Helena',\n",
       "   {'entities': [[0, 12, 'PHONE']]}],\n",
       "  ['5000 pekerja diberhentikan tahun ini', {'entities': [[0, 4, 'AMOUNT']]}],\n",
       "  ['3200 pelajar yang lulus masih menganggur',\n",
       "   {'entities': [[0, 4, 'AMOUNT']]}]]}"
      ]
     },
     "execution_count": 4,
     "metadata": {},
     "output_type": "execute_result"
    }
   ],
   "source": [
    "TRAIN_DATA "
   ]
  },
  {
   "cell_type": "code",
   "execution_count": 10,
   "id": "c92a5603-5d69-4149-9e28-772644d90bfa",
   "metadata": {},
   "outputs": [],
   "source": [
    "# Import the DocBin object from the 'tokens' module in spacy\n",
    "import spacy\n",
    "from spacy.tokens import DocBin\n",
    "\n",
    "nlp = spacy.blank(\"id\") #load a new spacy model \"Indonesia\"\n",
    "db = DocBin() #create a DocBin object"
   ]
  },
  {
   "cell_type": "code",
   "execution_count": 11,
   "id": "c381d765-ee70-4d19-b495-1e60c74c390a",
   "metadata": {},
   "outputs": [
    {
     "name": "stderr",
     "output_type": "stream",
     "text": [
      "100%|██████████████████████████████████████████| 14/14 [00:00<00:00, 319.07it/s]\n"
     ]
    }
   ],
   "source": [
    "# Convert annotation file (.json) to .spacy object\n",
    "\n",
    "for text, annot in tqdm(TRAIN_DATA['annotations']): \n",
    "    doc = nlp.make_doc(text) \n",
    "    ents = []\n",
    "    for start, end, label in annot[\"entities\"]: #add character indexes\n",
    "        span = doc.char_span(start, end, label=label, alignment_mode=\"contract\")\n",
    "        if span is None:\n",
    "            print(\"Skipping entity\")\n",
    "        else:\n",
    "            ents.append(span)\n",
    "    doc.ents = ents #label the text with the ents\n",
    "    db.add(doc)\n",
    "\n",
    "db.to_disk(\"./training_data.spacy\") #save the DocBin object"
   ]
  },
  {
   "cell_type": "code",
   "execution_count": 115,
   "id": "8b6c4bb7-d2fb-40d7-b531-dde6b7c8acd9",
   "metadata": {},
   "outputs": [
    {
     "name": "stdout",
     "output_type": "stream",
     "text": [
      "<spacy.tokens._serialize.DocBin object at 0x7f198d70a2b0>\n"
     ]
    }
   ],
   "source": [
    "print(db)"
   ]
  },
  {
   "cell_type": "code",
   "execution_count": 12,
   "id": "d2253e34-fc5a-46a4-ac00-292e538cb892",
   "metadata": {},
   "outputs": [
    {
     "name": "stdout",
     "output_type": "stream",
     "text": [
      "\u001b[38;5;3m⚠ To generate a more effective transformer-based config (GPU-only),\n",
      "install the spacy-transformers package and re-run this command. The config\n",
      "generated now does not use transformers.\u001b[0m\n",
      "\u001b[38;5;4mℹ Generated config template specific for your use case\u001b[0m\n",
      "- Language: en\n",
      "- Pipeline: ner\n",
      "- Optimize for: efficiency\n",
      "- Hardware: CPU\n",
      "- Transformer: None\n",
      "\u001b[38;5;2m✔ Auto-filled config with all values\u001b[0m\n",
      "\u001b[38;5;2m✔ Saved config\u001b[0m\n",
      "config.cfg\n",
      "You can now add your data and train your pipeline:\n",
      "python -m spacy train config.cfg --paths.train ./train.spacy --paths.dev ./dev.spacy\n"
     ]
    }
   ],
   "source": [
    "# data train configuration\n",
    "!python -m spacy init config config.cfg --lang en --pipeline ner --optimize efficiency"
   ]
  },
  {
   "cell_type": "code",
   "execution_count": 13,
   "id": "fac72471-127c-4358-b346-f0641fdac7cd",
   "metadata": {},
   "outputs": [
    {
     "name": "stdout",
     "output_type": "stream",
     "text": [
      "\u001b[38;5;4mℹ Saving to output directory: .\u001b[0m\n",
      "\u001b[38;5;4mℹ Using CPU\u001b[0m\n",
      "\u001b[1m\n",
      "=========================== Initializing pipeline ===========================\u001b[0m\n",
      "[2023-03-23 00:31:08,070] [INFO] Set up nlp object from config\n",
      "[2023-03-23 00:31:08,082] [INFO] Pipeline: ['tok2vec', 'ner']\n",
      "[2023-03-23 00:31:08,085] [INFO] Created vocabulary\n",
      "[2023-03-23 00:31:08,086] [INFO] Finished initializing nlp object\n",
      "[2023-03-23 00:31:08,397] [INFO] Initialized pipeline components: ['tok2vec', 'ner']\n",
      "\u001b[38;5;2m✔ Initialized pipeline\u001b[0m\n",
      "\u001b[1m\n",
      "============================= Training pipeline =============================\u001b[0m\n",
      "\u001b[38;5;4mℹ Pipeline: ['tok2vec', 'ner']\u001b[0m\n",
      "\u001b[38;5;4mℹ Initial learn rate: 0.001\u001b[0m\n",
      "E    #       LOSS TOK2VEC  LOSS NER  ENTS_F  ENTS_P  ENTS_R  SCORE \n",
      "---  ------  ------------  --------  ------  ------  ------  ------\n",
      "  0       0          0.00     53.21    0.00    0.00    0.00    0.00\n",
      "200     200          2.64    749.37  100.00  100.00  100.00    1.00\n",
      "400     400          0.00      0.00  100.00  100.00  100.00    1.00\n",
      "600     600          0.00      0.00  100.00  100.00  100.00    1.00\n",
      "800     800          0.00      0.00  100.00  100.00  100.00    1.00\n",
      "1000    1000          0.00      0.00  100.00  100.00  100.00    1.00\n",
      "1200    1200          0.00      0.00  100.00  100.00  100.00    1.00\n",
      "1400    1400          0.00      0.00  100.00  100.00  100.00    1.00\n",
      "1600    1600          0.00      0.00  100.00  100.00  100.00    1.00\n",
      "1800    1800          0.00      0.00  100.00  100.00  100.00    1.00\n",
      "\u001b[38;5;2m✔ Saved pipeline to output directory\u001b[0m\n",
      "model-last\n"
     ]
    }
   ],
   "source": [
    "#Initialize data train & pipeline\n",
    "!python -m spacy train config.cfg --output ./ --paths.train ./training_data.spacy --paths.dev ./training_data.spacy "
   ]
  },
  {
   "cell_type": "markdown",
   "id": "44fcb662-d343-44df-bfc2-e8836faf94cd",
   "metadata": {},
   "source": [
    "<div align=\"center\" style=\"font-family:times new roman\"><b>3. Model validation</b>\n",
    "</div>\n",
    "<hr>"
   ]
  },
  {
   "cell_type": "code",
   "execution_count": 17,
   "id": "9ebaeb48-54aa-44cb-9f81-db9a6d806b3c",
   "metadata": {},
   "outputs": [],
   "source": [
    "# Loading model (best model)\n",
    "nlp_ner = spacy.load(\"/home/achmadadyatma/Documents/learncode/my-data-analyst_project/name_entity_recognition/model-best\")"
   ]
  },
  {
   "cell_type": "code",
   "execution_count": null,
   "id": "1d5cdab0-dd62-41f6-9db1-d66523a80f1d",
   "metadata": {},
   "outputs": [],
   "source": [
    "'''\n",
    "Test Case 1:\n",
    "    1. saya mau beli tiket pesawat ke Surabaya untuk 2 orang\n",
    "    2. beliin tiket pesawat untuk 2 orang ya, tujuannya Surabaya\n",
    "    3. pesankan penerbangan 2 tiket ke Surabaya\n",
    "\n",
    "Test Case 2:\n",
    "    1. beliin pulsa 10rb ke 081192327632\n",
    "    2. isi pulsa 10000 ke 081192327632\n",
    "'''"
   ]
  },
  {
   "cell_type": "code",
   "execution_count": 22,
   "id": "8d4df4cb-9979-4627-a645-f24d39f373f0",
   "metadata": {},
   "outputs": [
    {
     "data": {
      "text/html": [
       "<span class=\"tex2jax_ignore\"><div class=\"entities\" style=\"line-height: 2.5; direction: ltr\"></br>    saya mau beli tiket pesawat ke \n",
       "<mark class=\"entity\" style=\"background: #ddd; padding: 0.45em 0.6em; margin: 0 0.25em; line-height: 1; border-radius: 0.35em;\">\n",
       "    Surabaya\n",
       "    <span style=\"font-size: 0.8em; font-weight: bold; line-height: 1; border-radius: 0.35em; vertical-align: middle; margin-left: 0.5rem\">PLACE</span>\n",
       "</mark>\n",
       " untuk \n",
       "<mark class=\"entity\" style=\"background: #ddd; padding: 0.45em 0.6em; margin: 0 0.25em; line-height: 1; border-radius: 0.35em;\">\n",
       "    2\n",
       "    <span style=\"font-size: 0.8em; font-weight: bold; line-height: 1; border-radius: 0.35em; vertical-align: middle; margin-left: 0.5rem\">AMOUNT</span>\n",
       "</mark>\n",
       " orang</br>    beliin tiket pesawat untuk \n",
       "<mark class=\"entity\" style=\"background: #ddd; padding: 0.45em 0.6em; margin: 0 0.25em; line-height: 1; border-radius: 0.35em;\">\n",
       "    2\n",
       "    <span style=\"font-size: 0.8em; font-weight: bold; line-height: 1; border-radius: 0.35em; vertical-align: middle; margin-left: 0.5rem\">AMOUNT</span>\n",
       "</mark>\n",
       " orang ya, tujuannya \n",
       "<mark class=\"entity\" style=\"background: #ddd; padding: 0.45em 0.6em; margin: 0 0.25em; line-height: 1; border-radius: 0.35em;\">\n",
       "    Surabaya\n",
       "    <span style=\"font-size: 0.8em; font-weight: bold; line-height: 1; border-radius: 0.35em; vertical-align: middle; margin-left: 0.5rem\">PLACE</span>\n",
       "</mark>\n",
       "</br>    pesankan penerbangan 2 tiket ke \n",
       "<mark class=\"entity\" style=\"background: #ddd; padding: 0.45em 0.6em; margin: 0 0.25em; line-height: 1; border-radius: 0.35em;\">\n",
       "    Surabaya\n",
       "    <span style=\"font-size: 0.8em; font-weight: bold; line-height: 1; border-radius: 0.35em; vertical-align: middle; margin-left: 0.5rem\">PLACE</span>\n",
       "</mark>\n",
       "</br></div></span>"
      ],
      "text/plain": [
       "<IPython.core.display.HTML object>"
      ]
     },
     "metadata": {},
     "output_type": "display_data"
    }
   ],
   "source": [
    "# Test case 1\n",
    "doc = nlp_ner('''\n",
    "    saya mau beli tiket pesawat ke Surabaya untuk 2 orang\n",
    "    beliin tiket pesawat untuk 2 orang ya, tujuannya Surabaya\n",
    "    pesankan penerbangan 2 tiket ke Surabaya\n",
    "''')\n",
    "\n",
    "spacy.displacy.render(doc, style =\"ent\", jupyter=True)"
   ]
  },
  {
   "cell_type": "code",
   "execution_count": 29,
   "id": "d41a55d3-0cea-41f4-bc74-a51114c59e71",
   "metadata": {},
   "outputs": [
    {
     "data": {
      "text/html": [
       "<span class=\"tex2jax_ignore\"><div class=\"entities\" style=\"line-height: 2.5; direction: ltr\"></br>    beliin pulsa 10rb ke \n",
       "<mark class=\"entity\" style=\"background: #ddd; padding: 0.45em 0.6em; margin: 0 0.25em; line-height: 1; border-radius: 0.35em;\">\n",
       "    081192327632\n",
       "    <span style=\"font-size: 0.8em; font-weight: bold; line-height: 1; border-radius: 0.35em; vertical-align: middle; margin-left: 0.5rem\">PHONE</span>\n",
       "</mark>\n",
       "</br>    isi pulsa \n",
       "<mark class=\"entity\" style=\"background: #ddd; padding: 0.45em 0.6em; margin: 0 0.25em; line-height: 1; border-radius: 0.35em;\">\n",
       "    10000\n",
       "    <span style=\"font-size: 0.8em; font-weight: bold; line-height: 1; border-radius: 0.35em; vertical-align: middle; margin-left: 0.5rem\">AMOUNT</span>\n",
       "</mark>\n",
       " ke \n",
       "<mark class=\"entity\" style=\"background: #ddd; padding: 0.45em 0.6em; margin: 0 0.25em; line-height: 1; border-radius: 0.35em;\">\n",
       "    081192327632\n",
       "    <span style=\"font-size: 0.8em; font-weight: bold; line-height: 1; border-radius: 0.35em; vertical-align: middle; margin-left: 0.5rem\">PHONE</span>\n",
       "</mark>\n",
       "</br></div></span>"
      ],
      "text/plain": [
       "<IPython.core.display.HTML object>"
      ]
     },
     "metadata": {},
     "output_type": "display_data"
    }
   ],
   "source": [
    "# Test case 2\n",
    "doc =nlp_ner('''\n",
    "    beliin pulsa 10rb ke 081192327632\n",
    "    isi pulsa 10000 ke 081192327632\n",
    "''')\n",
    "\n",
    "spacy.displacy.render(doc, style =\"ent\", jupyter=True)"
   ]
  },
  {
   "cell_type": "markdown",
   "id": "3e4f1ccd-9a4a-4d56-a1bc-c88635127b01",
   "metadata": {},
   "source": [
    "<div align=\"center\" style=\"font-family:times new roman\":times new roman>\n",
    "<h3>Deploying machine learning model</h3><hr>\n",
    " \n",
    "</div>"
   ]
  },
  {
   "cell_type": "code",
   "execution_count": 40,
   "id": "da18be20-a494-46b4-be85-c90de12a8293",
   "metadata": {},
   "outputs": [],
   "source": [
    "# save machine learning model as pickle file (file.pkl)\n",
    "import pickle\n",
    "pickle.dump(nlp_ner,open(\"deploy_ml_model.pkl\",\"wb\"))"
   ]
  },
  {
   "cell_type": "code",
   "execution_count": 42,
   "id": "7e8c4933-3dee-43d3-8bd0-ed3fa1c509e9",
   "metadata": {},
   "outputs": [],
   "source": [
    "# load machine learning model that previously saved\n",
    "model = pickle.load(open('deploy_ml_model.pkl','rb'))"
   ]
  },
  {
   "cell_type": "code",
   "execution_count": 44,
   "id": "93f49948-0cfa-46ee-83ae-7540f05dd1b9",
   "metadata": {},
   "outputs": [
    {
     "data": {
      "text/html": [
       "<span class=\"tex2jax_ignore\"><div class=\"entities\" style=\"line-height: 2.5; direction: ltr\"></br>    Ibu sedang ada di \n",
       "<mark class=\"entity\" style=\"background: #ddd; padding: 0.45em 0.6em; margin: 0 0.25em; line-height: 1; border-radius: 0.35em;\">\n",
       "    Surabaya\n",
       "    <span style=\"font-size: 0.8em; font-weight: bold; line-height: 1; border-radius: 0.35em; vertical-align: middle; margin-left: 0.5rem\">PLACE</span>\n",
       "</mark>\n",
       " membawa \n",
       "<mark class=\"entity\" style=\"background: #ddd; padding: 0.45em 0.6em; margin: 0 0.25em; line-height: 1; border-radius: 0.35em;\">\n",
       "    5\n",
       "    <span style=\"font-size: 0.8em; font-weight: bold; line-height: 1; border-radius: 0.35em; vertical-align: middle; margin-left: 0.5rem\">AMOUNT</span>\n",
       "</mark>\n",
       " anak</br>    hubungi bu Dian di nomor \n",
       "<mark class=\"entity\" style=\"background: #ddd; padding: 0.45em 0.6em; margin: 0 0.25em; line-height: 1; border-radius: 0.35em;\">\n",
       "    081121221639\n",
       "    <span style=\"font-size: 0.8em; font-weight: bold; line-height: 1; border-radius: 0.35em; vertical-align: middle; margin-left: 0.5rem\">PHONE</span>\n",
       "</mark>\n",
       "</br></div></span>"
      ],
      "text/plain": [
       "<IPython.core.display.HTML object>"
      ]
     },
     "metadata": {},
     "output_type": "display_data"
    }
   ],
   "source": [
    "# execute the model\n",
    "doc = model(\n",
    "    '''\n",
    "    Ibu sedang ada di Surabaya membawa 5 anak\n",
    "    hubungi bu Dian di nomor 081121221639\n",
    "''')\n",
    "\n",
    "spacy.displacy.render(doc, style =\"ent\", jupyter=True)"
   ]
  },
  {
   "cell_type": "markdown",
   "id": "9311d8f7-2d2d-4df2-9202-c7c11d5c1bb8",
   "metadata": {},
   "source": [
    "<div align=\"justify\" style=\"font-family:times new roman\":times new roman>\n",
    "<h3>References :</h3><hr>\n",
    "    https://spacy.io/usage/rule-based-matching<br>\n",
    "    https://tecoholic.github.io/ner-annotator/<br>\n",
    "    https://spacy.io/api/docbin<br>\n",
    "    https://spacy.io/usage/models#languages<br>\n",
    "    https://spacy.io/models<br>\n",
    "    https://spacy.io/usage/training<br>\n",
    "    https://practicaldatascience.co.uk/machine-learning/how-to-save-and-load-machine-learning-models-using-pickle<br>\n",
    "</div>"
   ]
  }
 ],
 "metadata": {
  "kernelspec": {
   "display_name": "Python 3 (ipykernel)",
   "language": "python",
   "name": "python3"
  },
  "language_info": {
   "codemirror_mode": {
    "name": "ipython",
    "version": 3
   },
   "file_extension": ".py",
   "mimetype": "text/x-python",
   "name": "python",
   "nbconvert_exporter": "python",
   "pygments_lexer": "ipython3",
   "version": "3.9.13"
  }
 },
 "nbformat": 4,
 "nbformat_minor": 5
}
